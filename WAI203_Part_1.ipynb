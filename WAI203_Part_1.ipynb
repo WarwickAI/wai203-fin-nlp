{
  "nbformat": 4,
  "nbformat_minor": 0,
  "metadata": {
    "colab": {
      "name": "WAI203 Part 1",
      "provenance": [],
      "collapsed_sections": [],
      "toc_visible": true,
      "authorship_tag": "ABX9TyOCqNkCU1rKCtL/ae8uMgLq",
      "include_colab_link": true
    },
    "kernelspec": {
      "name": "python3",
      "display_name": "Python 3"
    },
    "language_info": {
      "name": "python"
    },
    "accelerator": "TPU"
  },
  "cells": [
    {
      "cell_type": "markdown",
      "metadata": {
        "id": "view-in-github",
        "colab_type": "text"
      },
      "source": [
        "<a href=\"https://colab.research.google.com/github/WarwickAI/wai203-fin-nlp/blob/main/WAI203_Part_1.ipynb\" target=\"_parent\"><img src=\"https://colab.research.google.com/assets/colab-badge.svg\" alt=\"Open In Colab\"/></a>"
      ]
    },
    {
      "cell_type": "markdown",
      "source": [
        "<p align=\"center\">\n",
        "    <img src=\"data:image/png;base64,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\" alt=\"WAI Logo\"/>\n",
        "</p>"
      ],
      "metadata": {
        "id": "cLULOqL3ZfuF"
      }
    },
    {
      "cell_type": "markdown",
      "source": [
        "## Dependencies"
      ],
      "metadata": {
        "id": "snSF5PPJBmeP"
      }
    },
    {
      "cell_type": "code",
      "execution_count": null,
      "metadata": {
        "id": "3zhYh_sV74NQ"
      },
      "outputs": [],
      "source": [
        "!pip install transformers datasets numpy sklearn wandb seaborn\n",
        "!pip install cloud-tpu-client==0.10 torch==1.9.0 https://storage.googleapis.com/tpu-pytorch/wheels/torch_xla-1.9-cp37-cp37m-linux_x86_64.whl"
      ]
    },
    {
      "cell_type": "markdown",
      "source": [
        "## 📊 Dataset"
      ],
      "metadata": {
        "id": "sDnjQLbrBtCi"
      }
    },
    {
      "cell_type": "code",
      "source": [
        "from datasets import load_dataset\n",
        "\n",
        "# Load data here"
      ],
      "metadata": {
        "id": "exFNIp1wBypc"
      },
      "execution_count": null,
      "outputs": []
    },
    {
      "cell_type": "code",
      "source": [
        "import seaborn as sns\n",
        "import matplotlib.pyplot as plt\n",
        "\n",
        "sns.set_style('dark')\n",
        "\n",
        "plt.figure(figsize=(10, 10))\n",
        "sns.countplot(data=dataset.to_dict(), x='label', palette='pastel')\n",
        "\n",
        "plt.xticks(range(3), dataset.features['label'].names)\n",
        "plt.show()"
      ],
      "metadata": {
        "id": "cDx9xsMXKMeo"
      },
      "execution_count": null,
      "outputs": []
    },
    {
      "cell_type": "markdown",
      "source": [
        "## ⚙️ Dataset processing"
      ],
      "metadata": {
        "id": "9v5mgUa8Ci5F"
      }
    },
    {
      "cell_type": "code",
      "source": [
        "from transformers import PerceiverTokenizer, DataCollatorWithPadding\n",
        "\n",
        "# Initialize tokenizer\n",
        "# Initialize data collator\n",
        "\n",
        "labels = dataset.features['label'].names\n",
        "id2label = { id: label for id, label in enumerate(labels) }\n",
        "label2id = { label: id for id, label in enumerate(labels) }\n",
        "\n",
        "# Tokenize the sentences\n",
        "\n",
        "# Create training/test split"
      ],
      "metadata": {
        "id": "euQzZILTC7X4"
      },
      "execution_count": null,
      "outputs": []
    },
    {
      "cell_type": "markdown",
      "source": [
        "## 📏 Metrics"
      ],
      "metadata": {
        "id": "WGv0qGTvDbJv"
      }
    },
    {
      "cell_type": "code",
      "source": [
        "import numpy as np\n",
        "from datasets import load_metric\n",
        "\n",
        "def compute_metrics(eval_pred):\n",
        "    recall_metric = load_metric('recall')\n",
        "    accuracy_metric = load_metric('accuracy')\n",
        "    precision_metric = load_metric('precision')\n",
        "\n",
        "    logits, labels = eval_pred\n",
        "    predictions = np.argmax(logits, axis=-1)\n",
        "\n",
        "    recall = recall_metric.compute(\n",
        "            predictions=predictions,\n",
        "            references=labels,\n",
        "            average='macro'\n",
        "    )['recall']\n",
        "\n",
        "    accuracy = accuracy_metric.compute(\n",
        "            predictions=predictions,\n",
        "            references=labels\n",
        "    )['accuracy']\n",
        "\n",
        "    precision = precision_metric.compute(\n",
        "            predictions=predictions,\n",
        "            references=labels,\n",
        "            average='macro'\n",
        "    )['precision']\n",
        "\n",
        "    return {\n",
        "        'recall': recall,\n",
        "        'accuracy': accuracy,\n",
        "        'precision': precision\n",
        "    }"
      ],
      "metadata": {
        "id": "XXI1lFnyFJBL"
      },
      "execution_count": null,
      "outputs": []
    },
    {
      "cell_type": "markdown",
      "source": [
        "## 🚂 Training"
      ],
      "metadata": {
        "id": "4Mg1b-3wY7cZ"
      }
    },
    {
      "cell_type": "code",
      "source": [
        "import wandb\n",
        "from huggingface_hub import notebook_login\n",
        "\n",
        "#@title Training Settings\n",
        "\n",
        "#@markdown ---\n",
        "#@markdown #### Upload Model?\n",
        "#@markdown By ticking this box, your model will be automatically uploaded to the HuggingFace Hub. You will need to create an account.\n",
        "#@markdown (Recommended)\n",
        "upload_model_tokenizer = False #@param {type:\"boolean\"}\n",
        "\n",
        "#@markdown ---\n",
        "#@markdown #### Use Weights & Biases?\n",
        "#@markdown By ticking this box, you will be able to visualize your experiments live [here](https://wandb.ai).\n",
        "#@markdown (Recommended)\n",
        "use_wb = True #@param {type:\"boolean\"}\n",
        "\n",
        "#@markdown ---\n",
        "#@markdown #### Model name\n",
        "#@markdown The name of your model. This will be used as the public model name if you decide to upload it.\n",
        "model_name = 'my_model' #@param {type:\"string\"}\n",
        "\n",
        "if upload_model_tokenizer:\n",
        "    notebook_login()\n",
        "\n",
        "if use_wb:\n",
        "    wandb.login()"
      ],
      "metadata": {
        "id": "6KYB35btY9MY"
      },
      "execution_count": null,
      "outputs": []
    },
    {
      "cell_type": "code",
      "source": [
        "from transformers import Trainer, TrainingArguments, \\\n",
        "    PerceiverForSequenceClassification\n",
        "\n",
        "# Load the pre-trained model\n",
        "\n",
        "# Initialize the training arguments\n",
        "\n",
        "# Initialize the trainer\n",
        "\n",
        "trainer.train()\n",
        "\n",
        "if upload_model_tokenizer:\n",
        "    model.push_to_hub(model_name)\n",
        "    tokenizer.push_to_hub(model_name)\n",
        "\n",
        "if use_wb:\n",
        "    wandb.finish()"
      ],
      "metadata": {
        "id": "scxyrK2xDlmM"
      },
      "execution_count": null,
      "outputs": []
    },
    {
      "cell_type": "markdown",
      "source": [
        "## ‍🔬 Model Analysis\n"
      ],
      "metadata": {
        "id": "_XjEbJUkMoq3"
      }
    },
    {
      "cell_type": "code",
      "source": [
        "predictions = trainer.predict(tokenized_splits['test'])"
      ],
      "metadata": {
        "id": "Oz_ThrKLd12k"
      },
      "execution_count": null,
      "outputs": []
    },
    {
      "cell_type": "code",
      "source": [
        "import seaborn as sns\n",
        "import matplotlib.pyplot as plt\n",
        "from sklearn.metrics import confusion_matrix\n",
        "\n",
        "matrix = confusion_matrix(predictions.label_ids, np.argmax(predictions.predictions, axis=-1))\n",
        "\n",
        "plt.figure(figsize=(10, 10))\n",
        "\n",
        "sns.set_context('notebook', font_scale=1.5, rc={'lines.linewidth': 2.5})\n",
        "\n",
        "conf_plot = sns.heatmap(\n",
        "    matrix,\n",
        "    annot=True,\n",
        "    cmap='Blues',\n",
        "    square=True,\n",
        "    cbar=False,\n",
        "    xticklabels=labels,\n",
        "    yticklabels=labels,\n",
        "    fmt='g'\n",
        ")\n",
        "\n",
        "conf_plot.set_yticklabels(conf_plot.get_yticklabels(), rotation = 0)\n",
        "\n",
        "conf_plot.xaxis.set_ticks_position('top')\n",
        "conf_plot.xaxis.set_label_position('top')\n",
        "\n",
        "conf_plot.set_xlabel('Predicted sentiment', labelpad=20)\n",
        "conf_plot.set_ylabel('True sentiment', labelpad=20)\n",
        "\n",
        "plt.show()"
      ],
      "metadata": {
        "id": "M6YWLKZ0eBW-"
      },
      "execution_count": null,
      "outputs": []
    },
    {
      "cell_type": "markdown",
      "source": [
        "## Inference"
      ],
      "metadata": {
        "id": "Bz61tcoMghay"
      }
    },
    {
      "cell_type": "code",
      "source": [
        "#@markdown ---\n",
        "#@markdown #### Sentence\n",
        "#@markdown ###### Run cell to predict the sentiment\n",
        "text = 'WarwickAI stock price sky rockets after IPO.' #@param {type:\"string\"}\n",
        "#@markdown ---\n",
        "\n",
        "inference_prediction = trainer.predict([tokenizer(text, truncation=True)])\n",
        "\n",
        "predicted_sentiment = id2label[np.argmax(inference_prediction.predictions)]\n",
        "print(f'The sentence is {predicted_sentiment}.')"
      ],
      "metadata": {
        "id": "5X26f0A0gmjH"
      },
      "execution_count": null,
      "outputs": []
    }
  ]
}